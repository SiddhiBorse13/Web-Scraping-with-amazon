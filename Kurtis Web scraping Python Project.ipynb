{
 "cells": [
  {
   "cell_type": "markdown",
   "id": "51efa324",
   "metadata": {},
   "source": [
    "The code imports BeautifulSoup for web scraping, requests for making HTTP requests, Pandas for data manipulation, and \n",
    "NumPy for numerical computations in Python."
   ]
  },
  {
   "cell_type": "code",
   "execution_count": null,
   "id": "77427655",
   "metadata": {},
   "outputs": [],
   "source": [
    "from bs4 import BeautifulSoup\n",
    "import requests\n",
    "import pandas as pd\n",
    "import numpy as np"
   ]
  },
  {
   "cell_type": "code",
   "execution_count": 91,
   "id": "37afdbbc",
   "metadata": {},
   "outputs": [],
   "source": [
    "url='https://www.amazon.in/s?k=kurti+for+women&crid=3W30503O1IYIH&sprefix=%2Caps%2C401&ref=nb_sb_ss_recent_5_0_recent'"
   ]
  },
  {
   "cell_type": "markdown",
   "id": "279d1cab",
   "metadata": {},
   "source": [
    "The provided code defines custom headers for an HTTP request, including a user-agent string and accept-language preferences,\n",
    "facilitating web scraping by simulating a legitimate browser request."
   ]
  },
  {
   "cell_type": "code",
   "execution_count": 104,
   "id": "f35f8aca",
   "metadata": {},
   "outputs": [
    {
     "data": {
      "text/plain": [
       "<Response [503]>"
      ]
     },
     "execution_count": 104,
     "metadata": {},
     "output_type": "execute_result"
    }
   ],
   "source": [
    "page=requests.get(url)\n",
    "page"
   ]
  },
  {
   "cell_type": "code",
   "execution_count": 92,
   "id": "bf909b46",
   "metadata": {},
   "outputs": [],
   "source": [
    "#Headers for request\n",
    "Headers=({'User-Agent':'Mozilla/5.0 (Windows NT 10.0; Win64; x64) AppleWebKit/537.36 (KHTML, like Gecko) Chrome/121.0.0.0 Safari/537.36','Accept-Language':'en-US,en;q=0.5'})"
   ]
  },
  {
   "cell_type": "markdown",
   "id": "0a97595c",
   "metadata": {},
   "source": [
    "The code sends an HTTP GET request to the specified URL with custom headers, storing the response in the variable \"webpage\"."
   ]
  },
  {
   "cell_type": "code",
   "execution_count": 93,
   "id": "83a0916d",
   "metadata": {},
   "outputs": [],
   "source": [
    "#HTTP request\n",
    "webpage = requests.get(url,headers=Headers)"
   ]
  },
  {
   "cell_type": "markdown",
   "id": "c3ffe4ce",
   "metadata": {},
   "source": [
    "The code retrieves the content of the webpage response obtained from the HTTP request."
   ]
  },
  {
   "cell_type": "code",
   "execution_count": 103,
   "id": "a9de215d",
   "metadata": {},
   "outputs": [
    {
     "data": {
      "text/plain": [
       "b'<html>\\n<head>\\n<title>503 - Service Unavailable Error</title>\\n</head>\\n<body bgcolor=\"#FFFFFF\" text=\"#000000\">\\n\\n<!--\\n        To discuss automated access to Amazon data please contact api-services-support@amazon.com.\\n        For information about migrating to our APIs refer to our Marketplace APIs at https://developer.amazonservices.in/ref=rm_5_sv, or our Product Advertising API at https://affiliate-program.amazon.in/gp/advertising/api/detail/main.html/ref=rm_5_ac for advertising use cases.\\n-->\\n\\n<center>\\n<a href=\"https://www.amazon.in/ref=cs_503_logo/\">\\n<img src=\"https://images-eu.ssl-images-amazon.com/images/G/31/x-locale/communities/people/logo.gif\" width=200 height=45 alt=\"Amazon.in\" border=0></a>\\n<p align=center>\\n<font face=\"Verdana,Arial,Helvetica\">\\n<font size=\"+2\" color=\"#CC6600\"><b>Oops!</b></font><br>\\n<b>It\\'s rush hour and traffic is piling up on that page. Please try again in a short while.<br>If you were trying to place an order, it will not have been processed at this time.</b><p>\\n\\n<img src=\"https://images-eu.ssl-images-amazon.com/images/G/02/x-locale/common/orange-arrow.gif\" width=10 height=9 border=0 alt=\"*\">\\n<b><a href=\"https://www.amazon.in/ref=cs_503_link/\">Go to the Amazon.in home page to continue shopping</a></b>\\n</font>\\n\\n</center>\\n</body>\\n</html>\\n'"
      ]
     },
     "execution_count": 103,
     "metadata": {},
     "output_type": "execute_result"
    }
   ],
   "source": [
    "webpage.content"
   ]
  },
  {
   "cell_type": "code",
   "execution_count": 96,
   "id": "9457c76a",
   "metadata": {},
   "outputs": [
    {
     "data": {
      "text/plain": [
       "bytes"
      ]
     },
     "execution_count": 96,
     "metadata": {},
     "output_type": "execute_result"
    }
   ],
   "source": [
    "type(webpage.content)"
   ]
  },
  {
   "cell_type": "markdown",
   "id": "773c41e9",
   "metadata": {},
   "source": [
    "The code creates a BeautifulSoup object named \"soup\" by parsing the HTML content of the webpage fetched from the HTTP request"
   ]
  },
  {
   "cell_type": "code",
   "execution_count": 99,
   "id": "bed66cc0",
   "metadata": {},
   "outputs": [
    {
     "data": {
      "text/plain": [
       "<html>\n",
       "<head>\n",
       "<title>503 - Service Unavailable Error</title>\n",
       "</head>\n",
       "<body bgcolor=\"#FFFFFF\" text=\"#000000\">\n",
       "<!--\n",
       "        To discuss automated access to Amazon data please contact api-services-support@amazon.com.\n",
       "        For information about migrating to our APIs refer to our Marketplace APIs at https://developer.amazonservices.in/ref=rm_5_sv, or our Product Advertising API at https://affiliate-program.amazon.in/gp/advertising/api/detail/main.html/ref=rm_5_ac for advertising use cases.\n",
       "-->\n",
       "<center>\n",
       "<a href=\"https://www.amazon.in/ref=cs_503_logo/\">\n",
       "<img alt=\"Amazon.in\" border=\"0\" height=\"45\" src=\"https://images-eu.ssl-images-amazon.com/images/G/31/x-locale/communities/people/logo.gif\" width=\"200\"/></a>\n",
       "<p align=\"center\">\n",
       "<font face=\"Verdana,Arial,Helvetica\">\n",
       "<font color=\"#CC6600\" size=\"+2\"><b>Oops!</b></font><br/>\n",
       "<b>It's rush hour and traffic is piling up on that page. Please try again in a short while.<br/>If you were trying to place an order, it will not have been processed at this time.</b><p>\n",
       "<img alt=\"*\" border=\"0\" height=\"9\" src=\"https://images-eu.ssl-images-amazon.com/images/G/02/x-locale/common/orange-arrow.gif\" width=\"10\"/>\n",
       "<b><a href=\"https://www.amazon.in/ref=cs_503_link/\">Go to the Amazon.in home page to continue shopping</a></b>\n",
       "</p></font>\n",
       "</p></center>\n",
       "</body>\n",
       "</html>"
      ]
     },
     "execution_count": 99,
     "metadata": {},
     "output_type": "execute_result"
    }
   ],
   "source": [
    "soup = BeautifulSoup(webpage.content, \"html.parser\")\n",
    "soup"
   ]
  },
  {
   "cell_type": "code",
   "execution_count": 102,
   "id": "6781d8c4",
   "metadata": {},
   "outputs": [],
   "source": [
    "div=soup.find(\"div\",attrs={\"class\":\"sg-col-inner\"})\n",
    "div"
   ]
  },
  {
   "cell_type": "markdown",
   "id": "e8bad921",
   "metadata": {},
   "source": [
    "The code finds and selects a <div> element with the specified class attribute \"sg-col-inner\" within the BeautifulSoup \n",
    "object \"soup\", storing the result in the variable \"div\"."
   ]
  },
  {
   "cell_type": "code",
   "execution_count": null,
   "id": "63a46cf2",
   "metadata": {},
   "outputs": [],
   "source": []
  },
  {
   "cell_type": "code",
   "execution_count": null,
   "id": "5f410582",
   "metadata": {},
   "outputs": [],
   "source": []
  },
  {
   "cell_type": "code",
   "execution_count": null,
   "id": "06f2fb16",
   "metadata": {},
   "outputs": [],
   "source": []
  }
 ],
 "metadata": {
  "kernelspec": {
   "display_name": "Python 3 (ipykernel)",
   "language": "python",
   "name": "python3"
  },
  "language_info": {
   "codemirror_mode": {
    "name": "ipython",
    "version": 3
   },
   "file_extension": ".py",
   "mimetype": "text/x-python",
   "name": "python",
   "nbconvert_exporter": "python",
   "pygments_lexer": "ipython3",
   "version": "3.10.9"
  }
 },
 "nbformat": 4,
 "nbformat_minor": 5
}
